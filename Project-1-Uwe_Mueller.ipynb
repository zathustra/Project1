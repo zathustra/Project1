{
 "cells": [
  {
   "cell_type": "markdown",
   "metadata": {},
   "source": [
    "<img src=\"http://imgur.com/1ZcRyrc.png\" style=\"float: left; margin: 20px; height: 55px\">\n",
    "\n",
    "# Project 1: Python Coding Exercises\n",
    "\n",
    "_Authors: Joseph Nelson (DC) _\n",
    "\n",
    "---"
   ]
  },
  {
   "cell_type": "markdown",
   "metadata": {},
   "source": [
    "The following code challenges are drawn from common exercises used in technical interviews.\n",
    "\n",
    "Note that there may be several ways to approach each challenge!"
   ]
  },
  {
   "cell_type": "markdown",
   "metadata": {},
   "source": [
    "### Challenge 1.1: Largest Palindrome\n",
    "A palindromic number reads the same both ways. For example, 1234321 is a palindrome. The largest palindrome made from the product of two two-digit numbers is 9009 = 91 × 99. Find the largest palindrome made from the product of two three-digit numbers."
   ]
  },
  {
   "cell_type": "code",
   "execution_count": 41,
   "metadata": {
    "collapsed": true
   },
   "outputs": [
    {
     "data": {
      "text/plain": [
       "906609"
      ]
     },
     "execution_count": 41,
     "metadata": {},
     "output_type": "execute_result"
    }
   ],
   "source": [
    "# First solution: Convert integer to string and use string methods to check for palindrome\n",
    "\n",
    "def isPalindrome(num):\n",
    "    \"\"\"Assumes: num is an integer\n",
    "       Retrurns: Bolean value if input s is a Palindrome or not\"\"\"\n",
    "    s=str(num)\n",
    "    return s == s[::-1]\n",
    "  \n",
    "\n",
    "# Find the largest palindrome made by the product of three-digit number:\n",
    "lrg_Num=0\n",
    "for num in range(999,99,-1):\n",
    "    for num2 in range(num,99,-1):\n",
    "        p = num * num2\n",
    "        if isPalindrome(p) and p > lrg_Num:\n",
    "            lrg_Num = p\n",
    "lrg_Num"
   ]
  },
  {
   "cell_type": "code",
   "execution_count": 11,
   "metadata": {},
   "outputs": [
    {
     "name": "stdout",
     "output_type": "stream",
     "text": [
      "906609\n"
     ]
    }
   ],
   "source": [
    "# Second solution: Use a recursive function to check if number is Palindrome\n",
    "def isPalindromeR(num):\n",
    "    \"\"\"Assumes num is an integer\n",
    "       Returns True if number or letter in num form a palindrome;\n",
    "               False otherwise\"\"\"\n",
    "    def isPal(s):\n",
    "        if len(s) <= 1:\n",
    "            return True \n",
    "        else:\n",
    "            return s[0] == s[-1] and isPal(s[1:-1])\n",
    "    return isPal(str(num))\n",
    "\n",
    "# Find the largest palindrome without having to loop through every possible combination\n",
    "prod=[]\n",
    "for num1 in range(999,99,-1):\n",
    "    for num2 in range(num1,99,-1):\n",
    "        prod.append(num1*num2)\n",
    "\n",
    "prod.sort(reverse=True)\n",
    "for item in prod:\n",
    "    if isPalindromeR(item):\n",
    "        print(item)\n",
    "        break;"
   ]
  },
  {
   "cell_type": "markdown",
   "metadata": {},
   "source": [
    "\n",
    "### Challenge 1.2: Summation of Primes\n",
    "The sum of the primes below 10 is 2 + 3 + 5 + 7 = 17. Find the sum of all the primes below 2,000."
   ]
  },
  {
   "cell_type": "code",
   "execution_count": 89,
   "metadata": {
    "collapsed": true
   },
   "outputs": [
    {
     "data": {
      "text/plain": [
       "277050"
      ]
     },
     "execution_count": 89,
     "metadata": {},
     "output_type": "execute_result"
    }
   ],
   "source": [
    "# Define a Function that checks for prime (checks that number is not 1 and not divisible by itself)\n",
    "def checkPrime(num):\n",
    "    \"\"\"Assumes num is an integer \n",
    "       Returns True if number is prime otherwise False\"\"\"\n",
    "    if num == 1:\n",
    "        return False\n",
    "    for i in range(num-1,1,-1): \n",
    "        if num % i == 0:\n",
    "            return False\n",
    "    return True\n",
    "\n",
    "# Check all the primes for 1 to 2000 and sum them up\n",
    "sm=0\n",
    "for i in range(1,2000):\n",
    "    if checkPrime(i):\n",
    "        sm += i \n",
    "sm"
   ]
  },
  {
   "cell_type": "markdown",
   "metadata": {},
   "source": [
    "### Challenge 1.3: Multiples of 3 and 5\n",
    "If we list all of the natural numbers below 10 that are multiples of 3 or 5, we get 3, 5, 6, and 9. The sum of these multiples is 23. Find the sum of all the multiples of 3 and 5 below 1,000."
   ]
  },
  {
   "cell_type": "code",
   "execution_count": 93,
   "metadata": {
    "collapsed": true
   },
   "outputs": [
    {
     "data": {
      "text/plain": [
       "233168"
      ]
     },
     "execution_count": 93,
     "metadata": {},
     "output_type": "execute_result"
    }
   ],
   "source": [
    "# Check if number is either divisible by 3 or 5 and if so add it to the summ variable\n",
    "\n",
    "summ=0\n",
    "for i in range(1000):\n",
    "    if i % 3 ==0 or i % 5 == 0:\n",
    "        summ += i\n",
    "summ"
   ]
  },
  {
   "cell_type": "markdown",
   "metadata": {},
   "source": [
    "### Challenge 2: FizzBuzz\n",
    "Write a program that prints all of the numbers from 1 to 100. For multiples of 3, instead of the number, print \"Fizz;\" for multiples of 5, print \"Buzz.\" For numbers that are multiples of both 3 and 5, print \"FizzBuzz.\" Bonus: If that's too easy, create three unique solutions. Sometimes you'll encounter unexpected constraints, so make sure you're able to think creatively!"
   ]
  },
  {
   "cell_type": "code",
   "execution_count": null,
   "metadata": {
    "collapsed": true
   },
   "outputs": [],
   "source": [
    "# First Solution using a nested if/else statement\n",
    "\n",
    "for num in range(1,101):\n",
    "    if num % 3 == 0 and num % 5 ==0:\n",
    "        print(\"FizzBuzz\")\n",
    "    elif num % 3 == 0:\n",
    "        print(\"Fizz\")\n",
    "    elif num % 5 == 0:\n",
    "        print(\"Buzz\")\n",
    "    else:\n",
    "        print(num)"
   ]
  },
  {
   "cell_type": "code",
   "execution_count": null,
   "metadata": {},
   "outputs": [],
   "source": [
    "# Second Solution check independently for multiple of 3 and 5\n",
    "\n",
    "for num in range(1,101):\n",
    "    res = \"\"\n",
    "    if num % 3 == 0:\n",
    "        res += \"Fizz\"\n",
    "    if num % 5 == 0:\n",
    "        res += \"Buzz\"\n",
    "    if res == \"\":\n",
    "        res = num\n",
    "    print(res)"
   ]
  },
  {
   "cell_type": "code",
   "execution_count": null,
   "metadata": {},
   "outputs": [],
   "source": [
    "# Third Solution dose not depend on modulus operation but on a list of muliple for 3 and 5\n",
    "\n",
    "three_list = [x for x in range(3,101,3)]\n",
    "five_list = [x for x in range(5,101,5)]\n",
    "for num in range(1,101):\n",
    "    res = \"\"\n",
    "    if num in three_list:\n",
    "        res += \"Fizz\"\n",
    "    if num in five_list:\n",
    "        res += \"Buzz\"\n",
    "    if res == \"\":\n",
    "        res = num\n",
    "    print(res)\n"
   ]
  },
  {
   "cell_type": "markdown",
   "metadata": {},
   "source": [
    "The last solution could be further be refined by using them as a set and then performe basic set math on them. Much longer and complicated code but very different from the above solutions"
   ]
  },
  {
   "cell_type": "code",
   "execution_count": null,
   "metadata": {},
   "outputs": [],
   "source": [
    "# Create a set for three and five\n",
    "\n",
    "three_list = set([x for x in range(3,101,3)])\n",
    "five_list = set([x for x in range(5,101,5)])\n",
    "\n",
    "# Perform basic set logic operation to get lists of unique numbers divisible by 3 and 5, by 3 or 5 only \n",
    "fv_thr = list(three_list.intersection(five_list))\n",
    "thr = list(three_list-five_list)\n",
    "fv = list(five_list-three_list)\n",
    "all_set=fv_thr + thr + fv\n",
    "\n",
    "# Create the Fizz-Buzz and number lists and combine them into one list that is sorted accoding to the set\n",
    "fv_thr_str = len(fv_thr) * [\"FizzBuzz\"]\n",
    "thr_str = len(thr) * [\"Fizz\"]\n",
    "fv_str = len(fv) * [\"Buzz\"]\n",
    "all_str = fv_thr_str + thr_str+fv_str\n",
    "fz_bz_list = [x for _, x in sorted(zip(all_set,all_str))]\n",
    "\n",
    "# Lastely just loop though all the numbers from 1 to 100 and if is not in the all_set then add the number\n",
    "for i in range(1,101):\n",
    "    if i not in all_set:\n",
    "        fz_bz_list.insert(i-1,i)\n",
    "for _ in fz_bz_list:\n",
    "    print(_)"
   ]
  },
  {
   "cell_type": "markdown",
   "metadata": {},
   "source": [
    "### Challenge 3: String Compressor\n",
    "Implement a method to perform basic string compression using the counts of repeated characters. (This is called run-length encoding.) For example, the string \"aabcccccaaa\" would become a2b1c5a3. If the “compressed” string would not become smaller than the original string, your method should return the original string. You can assume the string has only uppercase and lowercase letters (a–z). Specify whether your solution is case sensitive or case insensitive and what you would need to change to make it the other."
   ]
  },
  {
   "cell_type": "code",
   "execution_count": 21,
   "metadata": {
    "collapsed": true
   },
   "outputs": [],
   "source": [
    "# Make a solution that is case insensetive by using .lower() string method or case sensitive \n",
    "# by not using the .lower() method\n",
    "\n",
    "def strCompression(word,case_Sensitive=False):\n",
    "    \"\"\"Assumes: that inputvariable word is a word string, optional case_Sensitive argument as boolean\n",
    "       Returns: a run-length encoded string (cases insensetive)\"\"\"\n",
    "    \n",
    "    # make word lowercase if case argumet is true and set some inital variables\n",
    "    if not case_Sensitive:\n",
    "        word = word.lower()\n",
    "    cnt = 1\n",
    "    new_word = \"\"\n",
    "    \n",
    "    # iterate over word and count consecutive letter length\n",
    "    for i, letter in enumerate(word):\n",
    "        \n",
    "        # Add try/except clause since there is no other letter at the end\n",
    "        try:\n",
    "            if letter == word[i+1]:\n",
    "                cnt += 1\n",
    "            else:\n",
    "                new_word += letter + str(cnt)\n",
    "                cnt = 1\n",
    "        except:\n",
    "            new_word += letter + str(cnt)\n",
    "            break\n",
    "            \n",
    "    return new_word\n",
    "            "
   ]
  },
  {
   "cell_type": "markdown",
   "metadata": {},
   "source": [
    "By default the above function is case insensitive"
   ]
  },
  {
   "cell_type": "code",
   "execution_count": 22,
   "metadata": {},
   "outputs": [
    {
     "name": "stdout",
     "output_type": "stream",
     "text": [
      "a2b1c5a3\n",
      "a2b1c5a3\n"
     ]
    }
   ],
   "source": [
    "print(strCompression('aabcccccaaa'))\n",
    "print(strCompression('AabcCcccaaa'))"
   ]
  },
  {
   "cell_type": "markdown",
   "metadata": {},
   "source": [
    "However if we set the optional case argument to True (we basically don't envoke the lower() method) our function becomse case sensitive"
   ]
  },
  {
   "cell_type": "code",
   "execution_count": 23,
   "metadata": {},
   "outputs": [
    {
     "name": "stdout",
     "output_type": "stream",
     "text": [
      "a2b1c5a3\n",
      "A1a1b1c1C1c3a3\n"
     ]
    }
   ],
   "source": [
    "print(strCompression('aabcccccaaa',True))\n",
    "print(strCompression('AabcCcccaaa',True))"
   ]
  }
 ],
 "metadata": {
  "anaconda-cloud": {},
  "kernelspec": {
   "display_name": "Python 3",
   "language": "python",
   "name": "python3"
  },
  "language_info": {
   "codemirror_mode": {
    "name": "ipython",
    "version": 3
   },
   "file_extension": ".py",
   "mimetype": "text/x-python",
   "name": "python",
   "nbconvert_exporter": "python",
   "pygments_lexer": "ipython3",
   "version": "3.6.2"
  }
 },
 "nbformat": 4,
 "nbformat_minor": 2
}
